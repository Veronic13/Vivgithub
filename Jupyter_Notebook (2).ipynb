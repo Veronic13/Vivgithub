{
  "metadata": {
    "kernelspec": {
      "name": "python",
      "display_name": "Pyolite",
      "language": "python"
    },
    "language_info": {
      "codemirror_mode": {
        "name": "python",
        "version": 3
      },
      "file_extension": ".py",
      "mimetype": "text/x-python",
      "name": "python",
      "nbconvert_exporter": "python",
      "pygments_lexer": "ipython3",
      "version": "3.8"
    },
    "toc-autonumbering": true,
    "toc-showtags": true,
    "toc-showcode": true,
    "toc-showmarkdowntxt": true
  },
  "nbformat_minor": 4,
  "nbformat": 4,
  "cells": [
    {
      "cell_type": "markdown",
      "source": "<center>\n    <img src=\"https://s3-api.us-geo.objectstorage.softlayer.net/cf-courses-data/CognitiveClass/Logos/organization_logo/organization_logo.png\" width=\"300\" alt=\"cognitiveclass.ai logo\"  />\n</center>\n",
      "metadata": {}
    },
    {
      "cell_type": "markdown",
      "source": "#### Add your code below following the instructions given in the course\n",
      "metadata": {}
    },
    {
      "cell_type": "code",
      "source": "\n2 + 3",
      "metadata": {
        "trusted": true
      },
      "execution_count": 2,
      "outputs": [
        {
          "execution_count": 2,
          "output_type": "execute_result",
          "data": {
            "text/plain": "5"
          },
          "metadata": {}
        }
      ]
    },
    {
      "cell_type": "markdown",
      "source": "My Tile ",
      "metadata": {}
    },
    {
      "cell_type": "markdown",
      "source": "<a href=\"https://dataplatform.cloud.ibm.com/gallery\">IBM Cloud Gallery</a>",
      "metadata": {}
    },
    {
      "cell_type": "markdown",
      "source": "# Header 1",
      "metadata": {}
    },
    {
      "cell_type": "markdown",
      "source": "My Jupyter Notebook on IBM Watson Studio",
      "metadata": {}
    },
    {
      "cell_type": "markdown",
      "source": "VERONIC  MENDY  \nOccupation - Medical Accounts Resolution Specialist",
      "metadata": {}
    },
    {
      "cell_type": "markdown",
      "source": "I am Interested in data science because of the field of exploring, manipulating and analyzing using data to make recommendations. As an Account Resolution Specialist understating the problem is a simple solution to resolve an account. Data science for me will be another step to  communicate new information and insights from data analysis to key decision making in my organization, using other computer programs.\n\n",
      "metadata": {}
    },
    {
      "cell_type": "markdown",
      "source": "### Header 3",
      "metadata": {}
    },
    {
      "cell_type": "markdown",
      "source": "I will Should see the code execute the code 1+1 in the output,2 clicking Play button in the menu above the notebook, or pressing Shift+Enter on your notebook.\n",
      "metadata": {}
    },
    {
      "cell_type": "code",
      "source": "1+1",
      "metadata": {
        "trusted": true
      },
      "execution_count": 4,
      "outputs": [
        {
          "execution_count": 4,
          "output_type": "execute_result",
          "data": {
            "text/plain": "2"
          },
          "metadata": {}
        }
      ]
    },
    {
      "cell_type": "markdown",
      "source": "https://github.com/Veronic13/Vivgithub",
      "metadata": {}
    }
  ]
}